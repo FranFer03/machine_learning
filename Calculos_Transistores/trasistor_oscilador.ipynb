{
 "cells": [
  {
   "cell_type": "code",
   "execution_count": 1,
   "metadata": {},
   "outputs": [],
   "source": [
    "import numpy as np\n",
    "import pandas as pd"
   ]
  },
  {
   "attachments": {},
   "cell_type": "markdown",
   "metadata": {},
   "source": [
    "## Declaracion de constantes"
   ]
  },
  {
   "cell_type": "code",
   "execution_count": 2,
   "metadata": {},
   "outputs": [],
   "source": [
    "rl = 30e3\n",
    "vcc = 12\n",
    "vce = 6\n",
    "vbe = 0.75"
   ]
  },
  {
   "attachments": {},
   "cell_type": "markdown",
   "metadata": {},
   "source": [
    "## Datos de transitor"
   ]
  },
  {
   "cell_type": "code",
   "execution_count": 3,
   "metadata": {},
   "outputs": [],
   "source": [
    "hfe_min = 160\n",
    "hfe_max = 400\n",
    "delta_hfe = hfe_max - hfe_min"
   ]
  },
  {
   "attachments": {},
   "cell_type": "markdown",
   "metadata": {},
   "source": [
    "## Calculo de variables"
   ]
  },
  {
   "cell_type": "code",
   "execution_count": 4,
   "metadata": {},
   "outputs": [],
   "source": [
    "tension = np.arange(1,10,100e-3)\n",
    "pot_max = np.power(tension,2)/ rl\n",
    "current_ingre = np.sqrt(pot_max/rl)\n",
    "current_level = current_ingre * 2.5"
   ]
  },
  {
   "cell_type": "code",
   "execution_count": 5,
   "metadata": {},
   "outputs": [],
   "source": [
    "re = (vcc-vce)/current_level\n",
    "ic_max = current_level + 0.05 * current_level\n",
    "ic_min = current_level - 0.05 * current_level\n",
    "delta_ic = ic_max - ic_min\n",
    "ib = ic_min/hfe_min"
   ]
  },
  {
   "cell_type": "code",
   "execution_count": 6,
   "metadata": {},
   "outputs": [
    {
     "data": {
      "text/plain": [
       "28.14035087719298"
      ]
     },
     "execution_count": 6,
     "metadata": {},
     "output_type": "execute_result"
    }
   ],
   "source": [
    "s_term = (hfe_min * (1 + hfe_max) * delta_ic)/(ic_min * delta_hfe)\n",
    "s_term [2]"
   ]
  },
  {
   "cell_type": "code",
   "execution_count": 7,
   "metadata": {},
   "outputs": [],
   "source": [
    "rb = (re* (1+hfe_max) * (s_term - 1))/( 1+hfe_max - s_term)\n",
    "vb = ib*rb + vbe + (ib+ic_min)*re\n",
    "r1 = np.round(rb*vcc/vb)\n",
    "r2 = np.round((r1*rb)/(r1-rb))"
   ]
  },
  {
   "cell_type": "code",
   "execution_count": 8,
   "metadata": {},
   "outputs": [],
   "source": [
    "data = pd.DataFrame({\n",
    "    \"tension_salida\" : tension,\n",
    "    \"potencia_salida\" : pot_max,\n",
    "    \"corriente_colector\" : current_ingre,\n",
    "    \"corriente_reposo\" : current_level,\n",
    "    \"delta_corriente\" : current_level - current_ingre,\n",
    "    \"resitencia_emisor\" : re,\n",
    "    \"resitencia_base\" : rb,\n",
    "    \"voltage_base\" : vb,\n",
    "    \"resitencia_r1\": r1,\n",
    "    \"resitencia_r2\": r2\n",
    "}\n",
    ")"
   ]
  },
  {
   "cell_type": "code",
   "execution_count": 9,
   "metadata": {},
   "outputs": [
    {
     "data": {
      "text/html": [
       "<div>\n",
       "<style scoped>\n",
       "    .dataframe tbody tr th:only-of-type {\n",
       "        vertical-align: middle;\n",
       "    }\n",
       "\n",
       "    .dataframe tbody tr th {\n",
       "        vertical-align: top;\n",
       "    }\n",
       "\n",
       "    .dataframe thead th {\n",
       "        text-align: right;\n",
       "    }\n",
       "</style>\n",
       "<table border=\"1\" class=\"dataframe\">\n",
       "  <thead>\n",
       "    <tr style=\"text-align: right;\">\n",
       "      <th></th>\n",
       "      <th>tension_salida</th>\n",
       "      <th>potencia_salida</th>\n",
       "      <th>corriente_colector</th>\n",
       "      <th>corriente_reposo</th>\n",
       "      <th>delta_corriente</th>\n",
       "      <th>resitencia_emisor</th>\n",
       "      <th>resitencia_base</th>\n",
       "      <th>voltage_base</th>\n",
       "      <th>resitencia_r1</th>\n",
       "      <th>resitencia_r2</th>\n",
       "    </tr>\n",
       "  </thead>\n",
       "  <tbody>\n",
       "    <tr>\n",
       "      <th>85</th>\n",
       "      <td>9.5</td>\n",
       "      <td>0.003008</td>\n",
       "      <td>0.000317</td>\n",
       "      <td>0.000792</td>\n",
       "      <td>0.000475</td>\n",
       "      <td>7578.947368</td>\n",
       "      <td>221219.463754</td>\n",
       "      <td>7.525472</td>\n",
       "      <td>352753.0</td>\n",
       "      <td>593277.0</td>\n",
       "    </tr>\n",
       "    <tr>\n",
       "      <th>86</th>\n",
       "      <td>9.6</td>\n",
       "      <td>0.003072</td>\n",
       "      <td>0.000320</td>\n",
       "      <td>0.000800</td>\n",
       "      <td>0.000480</td>\n",
       "      <td>7500.000000</td>\n",
       "      <td>218915.094340</td>\n",
       "      <td>7.525472</td>\n",
       "      <td>349079.0</td>\n",
       "      <td>587096.0</td>\n",
       "    </tr>\n",
       "    <tr>\n",
       "      <th>87</th>\n",
       "      <td>9.7</td>\n",
       "      <td>0.003136</td>\n",
       "      <td>0.000323</td>\n",
       "      <td>0.000808</td>\n",
       "      <td>0.000485</td>\n",
       "      <td>7422.680412</td>\n",
       "      <td>216658.237697</td>\n",
       "      <td>7.525472</td>\n",
       "      <td>345480.0</td>\n",
       "      <td>581044.0</td>\n",
       "    </tr>\n",
       "    <tr>\n",
       "      <th>88</th>\n",
       "      <td>9.8</td>\n",
       "      <td>0.003201</td>\n",
       "      <td>0.000327</td>\n",
       "      <td>0.000817</td>\n",
       "      <td>0.000490</td>\n",
       "      <td>7346.938776</td>\n",
       "      <td>214447.439353</td>\n",
       "      <td>7.525472</td>\n",
       "      <td>341955.0</td>\n",
       "      <td>575114.0</td>\n",
       "    </tr>\n",
       "    <tr>\n",
       "      <th>89</th>\n",
       "      <td>9.9</td>\n",
       "      <td>0.003267</td>\n",
       "      <td>0.000330</td>\n",
       "      <td>0.000825</td>\n",
       "      <td>0.000495</td>\n",
       "      <td>7272.727273</td>\n",
       "      <td>212281.303602</td>\n",
       "      <td>7.525472</td>\n",
       "      <td>338500.0</td>\n",
       "      <td>569307.0</td>\n",
       "    </tr>\n",
       "  </tbody>\n",
       "</table>\n",
       "</div>"
      ],
      "text/plain": [
       "    tension_salida  potencia_salida  corriente_colector  corriente_reposo  \\\n",
       "85             9.5         0.003008            0.000317          0.000792   \n",
       "86             9.6         0.003072            0.000320          0.000800   \n",
       "87             9.7         0.003136            0.000323          0.000808   \n",
       "88             9.8         0.003201            0.000327          0.000817   \n",
       "89             9.9         0.003267            0.000330          0.000825   \n",
       "\n",
       "    delta_corriente  resitencia_emisor  resitencia_base  voltage_base  \\\n",
       "85         0.000475        7578.947368    221219.463754      7.525472   \n",
       "86         0.000480        7500.000000    218915.094340      7.525472   \n",
       "87         0.000485        7422.680412    216658.237697      7.525472   \n",
       "88         0.000490        7346.938776    214447.439353      7.525472   \n",
       "89         0.000495        7272.727273    212281.303602      7.525472   \n",
       "\n",
       "    resitencia_r1  resitencia_r2  \n",
       "85       352753.0       593277.0  \n",
       "86       349079.0       587096.0  \n",
       "87       345480.0       581044.0  \n",
       "88       341955.0       575114.0  \n",
       "89       338500.0       569307.0  "
      ]
     },
     "execution_count": 9,
     "metadata": {},
     "output_type": "execute_result"
    }
   ],
   "source": [
    "data.tail()"
   ]
  },
  {
   "cell_type": "code",
   "execution_count": null,
   "metadata": {},
   "outputs": [],
   "source": []
  }
 ],
 "metadata": {
  "kernelspec": {
   "display_name": "base",
   "language": "python",
   "name": "python3"
  },
  "language_info": {
   "codemirror_mode": {
    "name": "ipython",
    "version": 3
   },
   "file_extension": ".py",
   "mimetype": "text/x-python",
   "name": "python",
   "nbconvert_exporter": "python",
   "pygments_lexer": "ipython3",
   "version": "3.10.9"
  },
  "orig_nbformat": 4
 },
 "nbformat": 4,
 "nbformat_minor": 2
}
